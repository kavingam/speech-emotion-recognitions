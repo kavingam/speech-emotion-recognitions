{
 "cells": [
  {
   "cell_type": "code",
   "execution_count": 2,
   "id": "648c3cee-ec03-4e5a-8067-9ff30a34acec",
   "metadata": {},
   "outputs": [],
   "source": [
    "# Program to find all .wav file in a specific folder\n",
    "import os\n",
    "\n",
    "def find_wav_files(folder_path):\n",
    "    # List to store .wav files\n",
    "    wav_files = []\n",
    "\n",
    "    # Walk through the folder\n",
    "    for root, dirs, files in os.walk(folder_path):\n",
    "        for file in files:\n",
    "            # Check if the file has a .wav extension\n",
    "            if file.lower().endswith('.wav'):\n",
    "                # Append the full path of the .wav file to the list\n",
    "                wav_files.append(os.path.join(root, file))\n",
    "\n",
    "    return wav_files\n",
    "\n",
    "# Example usage\n",
    "folder_path = 'C:/Users/User/Downloads/Compressed/archive/Tess/YAF_sad'  # Replace with your folder path\n",
    "wav_files = find_wav_files(folder_path)\n",
    "\n",
    "# Print the .wav files\n",
    "for wav_file in wav_files:\n",
    "    print(wav_file)\n"
   ]
  },
  {
   "cell_type": "code",
   "execution_count": 2,
   "id": "0e9c20cd-a84b-42ee-9cf8-68f507b71f52",
   "metadata": {},
   "outputs": [
    {
     "name": "stdout",
     "output_type": "stream",
     "text": [
      "Total .wav files: 0\n"
     ]
    }
   ],
   "source": [
    "# Count the total number of .wav files in a specific folder\n",
    "import os\n",
    "\n",
    "def count_wav_files(folder_path):\n",
    "    # Initialize a counter for .wav files\n",
    "    wav_count = 0\n",
    "\n",
    "    # Walk through the folder\n",
    "    for root, dirs, files in os.walk(folder_path):\n",
    "        for file in files:\n",
    "            # Check if the file has a .wav extension\n",
    "            if file.lower().endswith('.wav'):\n",
    "                wav_count += 1\n",
    "\n",
    "    return wav_count\n",
    "\n",
    "# Example usage\n",
    "folder_path = 'C:/Users/User/Downloads/Compressed/archive/Tess/YAF_sad'  # Replace with your folder path\n",
    "total_wav_files = count_wav_files(folder_path)\n",
    "\n",
    "print(f\"Total .wav files: {total_wav_files}\")\n"
   ]
  },
  {
   "cell_type": "code",
   "execution_count": 6,
   "id": "6f6fd85c-8958-40e3-a1c6-6b3718c76f40",
   "metadata": {},
   "outputs": [
    {
     "name": "stdout",
     "output_type": "stream",
     "text": [
      "File 'example.wav' not found.\n",
      "File deletion failed or file not found.\n"
     ]
    }
   ],
   "source": [
    "# Search for a specific .wav file by name and deletes it if found \n",
    "import os\n",
    "\n",
    "def search_and_delete_wav(folder_path, file_name):\n",
    "    # Walk through the folder\n",
    "    for root, dirs, files in os.walk(folder_path):\n",
    "        for file in files:\n",
    "            # Check if the file matches the given name and is a .wav file\n",
    "            if file.lower() == file_name.lower() and file.lower().endswith('.wav'):\n",
    "                # Construct the full path to the file\n",
    "                file_path = os.path.join(root, file)\n",
    "                \n",
    "                try:\n",
    "                    # Delete the file\n",
    "                    os.remove(file_path)\n",
    "                    print(f\"Deleted: {file_path}\")\n",
    "                    return True  # File found and deleted\n",
    "                except Exception as e:\n",
    "                    print(f\"Error deleting file: {e}\")\n",
    "                    return False  # Error occurred during deletion\n",
    "\n",
    "    print(f\"File '{file_name}' not found.\")\n",
    "    return False  # File not found\n",
    "\n",
    "# Example usage\n",
    "folder_path = 'C:/Users/User/Downloads/Compressed/archive/Tess/YAF_sad'  # Replace with your folder path\n",
    "file_name = 'example.wav'  # Replace with the file name you want to delete\n",
    "deleted = search_and_delete_wav(folder_path, file_name)\n",
    "\n",
    "if deleted:\n",
    "    print(\"File deletion successful.\")\n",
    "else:\n",
    "    print(\"File deletion failed or file not found.\")\n"
   ]
  },
  {
   "cell_type": "code",
   "execution_count": null,
   "id": "daccec2c-5a47-45d1-b050-83793585f107",
   "metadata": {},
   "outputs": [],
   "source": []
  }
 ],
 "metadata": {
  "kernelspec": {
   "display_name": "Python 3 (ipykernel)",
   "language": "python",
   "name": "python3"
  },
  "language_info": {
   "codemirror_mode": {
    "name": "ipython",
    "version": 3
   },
   "file_extension": ".py",
   "mimetype": "text/x-python",
   "name": "python",
   "nbconvert_exporter": "python",
   "pygments_lexer": "ipython3",
   "version": "3.12.4"
  }
 },
 "nbformat": 4,
 "nbformat_minor": 5
}
